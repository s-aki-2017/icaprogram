{
 "cells": [
  {
   "cell_type": "code",
   "execution_count": 29,
   "metadata": {},
   "outputs": [],
   "source": [
    "from PIL import Image\n",
    "import numpy as np\n",
    "import matplotlib.pyplot as plt\n",
    "\n",
    "#ファイル読み込み\n",
    "im1 = np.array(Image.open('image1.png'))\n",
    "im2 = np.array(Image.open('image2.png'))\n",
    "\n",
    "#配列を一次元化\n",
    "x1 = im1.flatten()\n",
    "x2 = im2.flatten()\n",
    "\n",
    "#平均0にする\n",
    "x1 = x1 - np.mean(x1)\n",
    "x2 = x2 - np.mean(x2)\n",
    "x = [x1,x2]\n",
    "\n",
    "#共分散行列を求める\n",
    "xcov = np.cov(x,rowvar = 1,bias = 1)\n",
    "mx = np.asmatrix(xcov)\n",
    "\n",
    "#固有値計算、白色化\n",
    "t,E = np.linalg.eig(mx)\n",
    "tv = 1 / (t ** (1/2) )\n",
    "Dv = np.diag(tv)\n",
    "Dv = np.asmatrix(Dv)\n",
    "V = E * Dv * E.T\n",
    "z = V * x"
   ]
  },
  {
   "cell_type": "code",
   "execution_count": 30,
   "metadata": {},
   "outputs": [],
   "source": [
    "#正規化\n",
    "def normalize(vec):\n",
    "    vec_norm = np.linalg.norm(vec)\n",
    "    if vec.sum()<0:\n",
    "        vec *= -1\n",
    "    return vec / vec_norm\n",
    "\n",
    "#変換\n",
    "def convert(w,z):\n",
    "    step1 = np.asarray(z) * (np.asarray(w.T * z)**3)\n",
    "    step2 = np.mean(step1,axis=1)\n",
    "    step3 = np.asmatrix(step2).T - 3*w\n",
    "    return np.asarray(step3)"
   ]
  },
  {
   "cell_type": "code",
   "execution_count": 31,
   "metadata": {},
   "outputs": [],
   "source": [
    "#尖度を最大化するWを求める\n",
    "W = np.empty((0,2))\n",
    "for i in range(2):\n",
    "    w = np.random.rand(2,1)\n",
    "    w = normalize(w)\n",
    "    while True:\n",
    "        tmp = w\n",
    "        w = convert(w,z)\n",
    "        w = normalize(w)\n",
    "        if np.linalg.norm(w-tmp)<0.000001:\n",
    "            W = np.concatenate((W,w.T),axis=0)\n",
    "            break"
   ]
  },
  {
   "cell_type": "code",
   "execution_count": 37,
   "metadata": {},
   "outputs": [],
   "source": [
    "y = W * z\n",
    "y = np.asarray(y)\n",
    "image01 = y[0]\n",
    "image02 = y[1]"
   ]
  },
  {
   "cell_type": "code",
   "execution_count": 60,
   "metadata": {},
   "outputs": [],
   "source": [
    "#配列の長さ\n",
    "l = len(im1.tolist())\n",
    "\n",
    "#配列要素を0-255に調整\n",
    "i1 = (image01 - np.min(image01))\n",
    "image001 = i1*255/np.max(i1) \n",
    "i2 = (image02 - np.min(image02))\n",
    "image002 = i2*255/np.max(i2) \n",
    "\n",
    "#配列の復元\n",
    "image1 = image001.reshape(l,l)\n",
    "image2 = image002.reshape(l,l)\n",
    "\n",
    "#画像の書き出し\n",
    "Image.fromarray(np.uint8(image1)).save('reimage1.png')\n",
    "Image.fromarray(np.uint8(image2)).save('reimage2.png')"
   ]
  },
  {
   "cell_type": "code",
   "execution_count": null,
   "metadata": {},
   "outputs": [],
   "source": []
  }
 ],
 "metadata": {
  "kernelspec": {
   "display_name": "Python 3",
   "language": "python",
   "name": "python3"
  },
  "language_info": {
   "codemirror_mode": {
    "name": "ipython",
    "version": 3
   },
   "file_extension": ".py",
   "mimetype": "text/x-python",
   "name": "python",
   "nbconvert_exporter": "python",
   "pygments_lexer": "ipython3",
   "version": "3.7.0"
  }
 },
 "nbformat": 4,
 "nbformat_minor": 2
}
